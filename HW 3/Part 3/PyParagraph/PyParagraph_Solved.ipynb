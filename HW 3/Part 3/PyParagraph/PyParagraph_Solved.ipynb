{
 "cells": [
  {
   "cell_type": "code",
   "execution_count": null,
   "metadata": {},
   "outputs": [],
   "source": [
    "import pandas as pd"
   ]
  },
  {
   "cell_type": "code",
   "execution_count": 46,
   "metadata": {},
   "outputs": [
    {
     "data": {
      "text/plain": [
       "'Gene expression in mammals is regulated by noncoding elements that can affect physiology and disease, yet the functions and target genes of most noncoding elements remain unknown. We present a high-throughput approach that uses clustered regularly interspaced short palindromic repeats (CRISPR) interference (CRISPRi) to discover regulatory elements and identify their target genes. We assess >1 megabase of sequence in the vicinity of two essential transcription factors, MYC and GATA1, and identify nine distal enhancers that control gene expression and cellular proliferation. Quantitative features of chromatin state and chromosome conformation distinguish the seven enhancers that regulate MYC from other elements that do not, suggesting a strategy for predicting enhancer–promoter connectivity. This CRISPRi-based approach can be applied to dissect transcriptional networks and interpret the contributions of noncoding genetic variation to human disease.'"
      ]
     },
     "execution_count": 46,
     "metadata": {},
     "output_type": "execute_result"
    }
   ],
   "source": [
    "# -*- coding: UTF-8 -*-\n",
    "\"\"\"PyParagraph Homework Solution.\"\"\"\n",
    "\n",
    "# Incorporate regular expressions (helpful for splitting by punctuation)\n",
    "import re\n",
    "import os\n",
    "\n",
    "# Files to load and output (Remember to change these)\n",
    "file_to_load = os.path.join(\"paragraph_1.txt\")\n",
    "file_to_output = os.path.join(\"paragraph_analysis.txt\")\n",
    "\n",
    "# String variable to hold the paragraph contents\n",
    "paragraph = \"\"\n",
    "\n",
    "# Read the text file\n",
    "with open(file_to_load) as txt_data:\n",
    "\n",
    "    # Store the contents as a string (with no new lines)\n",
    "    paragraph = txt_data.read().replace(\"\\n\", \" \")\n",
    "\n",
    "paragraph"
   ]
  },
  {
   "cell_type": "code",
   "execution_count": 47,
   "metadata": {
    "scrolled": true
   },
   "outputs": [
    {
     "name": "stdout",
     "output_type": "stream",
     "text": [
      "['Gene', 'expression', 'in', 'mammals', 'is', 'regulated', 'by', 'noncoding', 'elements', 'that', 'can', 'affect', 'physiology', 'and', 'disease,', 'yet', 'the', 'functions', 'and', 'target', 'genes', 'of', 'most', 'noncoding', 'elements', 'remain', 'unknown.', 'We', 'present', 'a', 'high-throughput', 'approach', 'that', 'uses', 'clustered', 'regularly', 'interspaced', 'short', 'palindromic', 'repeats', '(CRISPR)', 'interference', '(CRISPRi)', 'to', 'discover', 'regulatory', 'elements', 'and', 'identify', 'their', 'target', 'genes.', 'We', 'assess', '>1', 'megabase', 'of', 'sequence', 'in', 'the', 'vicinity', 'of', 'two', 'essential', 'transcription', 'factors,', 'MYC', 'and', 'GATA1,', 'and', 'identify', 'nine', 'distal', 'enhancers', 'that', 'control', 'gene', 'expression', 'and', 'cellular', 'proliferation.', 'Quantitative', 'features', 'of', 'chromatin', 'state', 'and', 'chromosome', 'conformation', 'distinguish', 'the', 'seven', 'enhancers', 'that', 'regulate', 'MYC', 'from', 'other', 'elements', 'that', 'do', 'not,', 'suggesting', 'a', 'strategy', 'for', 'predicting', 'enhancer–promoter', 'connectivity.', 'This', 'CRISPRi-based', 'approach', 'can', 'be', 'applied', 'to', 'dissect', 'transcriptional', 'networks', 'and', 'interpret', 'the', 'contributions', 'of', 'noncoding', 'genetic', 'variation', 'to', 'human', 'disease.']\n"
     ]
    },
    {
     "data": {
      "text/plain": [
       "130"
      ]
     },
     "execution_count": 47,
     "metadata": {},
     "output_type": "execute_result"
    }
   ],
   "source": [
    "# Split the paragraph based on spaces to calculate word count\n",
    "word_split = paragraph.split(\" \")\n",
    "print(word_split)\n",
    "word_count = len(word_split)\n",
    "word_count"
   ]
  },
  {
   "cell_type": "code",
   "execution_count": 48,
   "metadata": {},
   "outputs": [],
   "source": [
    "# Create a list for holding all the letter counts\n",
    "letter_counts = []\n",
    "\n",
    "# Loop through the word array and calculate the length of each word\n",
    "for word in word_split:\n",
    "\n",
    "    # Add each letter count into the letter_counts list\n",
    "    letter_counts.append(len(word))\n",
    "\n",
    "#Calculate the avg letter count\n",
    "avg_letter_count = sum(letter_counts) / float(len(letter_counts))\n",
    "avg_letter_count = round(avg_letter_count)"
   ]
  },
  {
   "cell_type": "code",
   "execution_count": 49,
   "metadata": {},
   "outputs": [
    {
     "name": "stdout",
     "output_type": "stream",
     "text": [
      "['Gene expression in mammals is regulated by noncoding elements that can affect physiology and disease, yet the functions and target genes of most noncoding elements remain unknown.', 'We present a high-throughput approach that uses clustered regularly interspaced short palindromic repeats (CRISPR) interference (CRISPRi) to discover regulatory elements and identify their target genes.', 'We assess >1 megabase of sequence in the vicinity of two essential transcription factors, MYC and GATA1, and identify nine distal enhancers that control gene expression and cellular proliferation.', 'Quantitative features of chromatin state and chromosome conformation distinguish the seven enhancers that regulate MYC from other elements that do not, suggesting a strategy for predicting enhancer–promoter connectivity.', 'This CRISPRi-based approach can be applied to dissect transcriptional networks and interpret the contributions of noncoding genetic variation to human disease.']\n"
     ]
    },
    {
     "data": {
      "text/plain": [
       "5"
      ]
     },
     "execution_count": 49,
     "metadata": {},
     "output_type": "execute_result"
    }
   ],
   "source": [
    "# Re-split the original paragraph based on punctuation (. ? !)\n",
    "sentence_split = re.split(\"(?<=[.!?]) +\", paragraph)\n",
    "print(sentence_split)\n",
    "\n",
    "sentence_count = len(sentence_split)\n",
    "sentence_count"
   ]
  },
  {
   "cell_type": "code",
   "execution_count": 50,
   "metadata": {},
   "outputs": [
    {
     "data": {
      "text/plain": [
       "[27, 25, 29, 28, 21]"
      ]
     },
     "execution_count": 50,
     "metadata": {},
     "output_type": "execute_result"
    }
   ],
   "source": [
    "words_per_sentence = []\n",
    "\n",
    "#Loop through the sentence array and calculate the number of words in each\n",
    "for sentence in sentence_split:\n",
    "\n",
    "    #Calculate the number of words in each sentence and add to the list\n",
    "    word_in_sen = sentence.split(\" \")\n",
    "    words = len(word_in_sen)\n",
    "    words_per_sentence.append(words)\n",
    "    \n",
    "words_per_sentence"
   ]
  },
  {
   "cell_type": "code",
   "execution_count": 51,
   "metadata": {},
   "outputs": [
    {
     "data": {
      "text/plain": [
       "26.0"
      ]
     },
     "execution_count": 51,
     "metadata": {},
     "output_type": "execute_result"
    }
   ],
   "source": [
    "# Calculate the avg word count (per sentence)\n",
    "avg_word_count = sum(words_per_sentence)/sentence_count\n",
    "avg_word_count"
   ]
  },
  {
   "cell_type": "code",
   "execution_count": 52,
   "metadata": {},
   "outputs": [
    {
     "data": {
      "text/plain": [
       "26.0"
      ]
     },
     "execution_count": 52,
     "metadata": {},
     "output_type": "execute_result"
    }
   ],
   "source": [
    "# Generate Paragraph Analysis Output\n",
    "word_count\n",
    "sentence_count\n",
    "avg_letter_count\n",
    "avg_word_count"
   ]
  },
  {
   "cell_type": "code",
   "execution_count": 64,
   "metadata": {},
   "outputs": [
    {
     "data": {
      "text/plain": [
       "'\\nParagraph Analysis\\n-----------------\\nApproximate Word Count: 130\\nApproximate Sentence Count: 5\\nAverage Letter Count: 6\\nAverage Sentence Length: 26.0\\n'"
      ]
     },
     "execution_count": 64,
     "metadata": {},
     "output_type": "execute_result"
    }
   ],
   "source": [
    "pypara_anal = str(f'''\n",
    "Paragraph Analysis\n",
    "-----------------\n",
    "Approximate Word Count: {word_count}\n",
    "Approximate Sentence Count: {sentence_count}\n",
    "Average Letter Count: {avg_letter_count}\n",
    "Average Sentence Length: {avg_word_count}\n",
    "''')\n",
    "pypara_anal"
   ]
  },
  {
   "cell_type": "code",
   "execution_count": 66,
   "metadata": {},
   "outputs": [],
   "source": [
    "f = open('PyParagraph.txt', 'a')\n",
    "f.write(pypara_anal)\n",
    "f.close()"
   ]
  },
  {
   "cell_type": "code",
   "execution_count": null,
   "metadata": {},
   "outputs": [],
   "source": []
  }
 ],
 "metadata": {
  "kernelspec": {
   "display_name": "Python 3",
   "language": "python",
   "name": "python3"
  },
  "language_info": {
   "codemirror_mode": {
    "name": "ipython",
    "version": 3
   },
   "file_extension": ".py",
   "mimetype": "text/x-python",
   "name": "python",
   "nbconvert_exporter": "python",
   "pygments_lexer": "ipython3",
   "version": "3.7.3"
  }
 },
 "nbformat": 4,
 "nbformat_minor": 2
}

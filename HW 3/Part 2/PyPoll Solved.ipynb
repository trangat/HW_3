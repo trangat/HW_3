{
 "cells": [
  {
   "cell_type": "code",
   "execution_count": 8,
   "metadata": {},
   "outputs": [],
   "source": [
    "import pandas as pd"
   ]
  },
  {
   "cell_type": "code",
   "execution_count": 9,
   "metadata": {},
   "outputs": [
    {
     "data": {
      "text/html": [
       "<div>\n",
       "<style scoped>\n",
       "    .dataframe tbody tr th:only-of-type {\n",
       "        vertical-align: middle;\n",
       "    }\n",
       "\n",
       "    .dataframe tbody tr th {\n",
       "        vertical-align: top;\n",
       "    }\n",
       "\n",
       "    .dataframe thead th {\n",
       "        text-align: right;\n",
       "    }\n",
       "</style>\n",
       "<table border=\"1\" class=\"dataframe\">\n",
       "  <thead>\n",
       "    <tr style=\"text-align: right;\">\n",
       "      <th></th>\n",
       "      <th>Voter ID</th>\n",
       "      <th>County</th>\n",
       "      <th>Candidate</th>\n",
       "    </tr>\n",
       "  </thead>\n",
       "  <tbody>\n",
       "    <tr>\n",
       "      <th>0</th>\n",
       "      <td>12864552</td>\n",
       "      <td>Marsh</td>\n",
       "      <td>Khan</td>\n",
       "    </tr>\n",
       "    <tr>\n",
       "      <th>1</th>\n",
       "      <td>17444633</td>\n",
       "      <td>Marsh</td>\n",
       "      <td>Correy</td>\n",
       "    </tr>\n",
       "    <tr>\n",
       "      <th>2</th>\n",
       "      <td>19330107</td>\n",
       "      <td>Marsh</td>\n",
       "      <td>Khan</td>\n",
       "    </tr>\n",
       "    <tr>\n",
       "      <th>3</th>\n",
       "      <td>19865775</td>\n",
       "      <td>Queen</td>\n",
       "      <td>Khan</td>\n",
       "    </tr>\n",
       "    <tr>\n",
       "      <th>4</th>\n",
       "      <td>11927875</td>\n",
       "      <td>Marsh</td>\n",
       "      <td>Khan</td>\n",
       "    </tr>\n",
       "  </tbody>\n",
       "</table>\n",
       "</div>"
      ],
      "text/plain": [
       "   Voter ID County Candidate\n",
       "0  12864552  Marsh      Khan\n",
       "1  17444633  Marsh    Correy\n",
       "2  19330107  Marsh      Khan\n",
       "3  19865775  Queen      Khan\n",
       "4  11927875  Marsh      Khan"
      ]
     },
     "execution_count": 9,
     "metadata": {},
     "output_type": "execute_result"
    }
   ],
   "source": [
    "# Make a reference to the file path\n",
    "csv_path = \"election_data.csv\"\n",
    "\n",
    "# Import the csv file as a DataFrame\n",
    "election_df = pd.read_csv(csv_path)\n",
    "election_df.head()"
   ]
  },
  {
   "cell_type": "code",
   "execution_count": 10,
   "metadata": {},
   "outputs": [],
   "source": [
    "# Total Vote Counter\n",
    "total_votes = 0\n",
    "\n",
    "# Candidate Options and Vote Counters\n",
    "candidate_options = []\n",
    "candidate_votes = {}\n",
    "\n",
    "# Winning Candidate and Winning Count Tracker\n",
    "winning_candidate = \"\"\n",
    "winning_count = 0\n"
   ]
  },
  {
   "cell_type": "code",
   "execution_count": 11,
   "metadata": {},
   "outputs": [
    {
     "data": {
      "text/plain": [
       "3521001"
      ]
     },
     "execution_count": 11,
     "metadata": {},
     "output_type": "execute_result"
    }
   ],
   "source": [
    "#calculate total votes cast in the election \n",
    "total_votes = election_df[\"Candidate\"].count()\n",
    "total_votes"
   ]
  },
  {
   "cell_type": "code",
   "execution_count": 20,
   "metadata": {},
   "outputs": [
    {
     "data": {
      "text/plain": [
       "Khan        2218231\n",
       "Correy       704200\n",
       "Li           492940\n",
       "O'Tooley     105630\n",
       "Name: Candidate, dtype: int64"
      ]
     },
     "execution_count": 20,
     "metadata": {},
     "output_type": "execute_result"
    }
   ],
   "source": [
    "#determine who the candidates were and how many votes were cast for each of them \n",
    "candidate_votes = election_df['Candidate'].value_counts()\n",
    "candidate_votes"
   ]
  },
  {
   "cell_type": "code",
   "execution_count": 73,
   "metadata": {},
   "outputs": [
    {
     "data": {
      "text/plain": [
       "Khan        63.0\n",
       "Correy      20.0\n",
       "Li          14.0\n",
       "O'Tooley     3.0\n",
       "Name: Candidate, dtype: float64"
      ]
     },
     "execution_count": 73,
     "metadata": {},
     "output_type": "execute_result"
    }
   ],
   "source": [
    "#determine what percentage of votes each candidate received\n",
    "vote_percent = round((candidate_votes/total_votes)* 100)\n",
    "vote_percent"
   ]
  },
  {
   "cell_type": "code",
   "execution_count": 50,
   "metadata": {},
   "outputs": [
    {
     "data": {
      "text/plain": [
       "Khan    63.0\n",
       "Name: Candidate, dtype: float64"
      ]
     },
     "execution_count": 50,
     "metadata": {},
     "output_type": "execute_result"
    }
   ],
   "source": [
    "#determine the winner of the election based on popular vote\n",
    "winning_count = vote_percent.max()\n",
    "winning_candidate = vote_percent[vote_percent==winning_count]\n",
    "winning_candidate"
   ]
  },
  {
   "cell_type": "code",
   "execution_count": 76,
   "metadata": {},
   "outputs": [
    {
     "name": "stdout",
     "output_type": "stream",
     "text": [
      "Election Results\n",
      "----------------------------------\n",
      "Total Votes: 3521001\n",
      "----------------------------------\n",
      "Candidate Votes: Khan 2218231 63.0%\n",
      "Candidate Votes: Correy 704200 20.0%\n",
      "Candidate Votes: Li 492940 14.0%\n",
      "Candidate Votes: O'Tooley 105630 3.0%\n",
      "----------------------------------\n",
      "Winner: Khan\n"
     ]
    }
   ],
   "source": [
    "#print the analysis to the terminal and export a text file with the results\n",
    "print('Election Results')\n",
    "print('----------------------------------')\n",
    "print(f'Total Votes: {total_votes}')\n",
    "print('----------------------------------')    \n",
    "print(f'Candidate Votes: {candidate_votes.index[0]} {candidate_votes[0]} {vote_percent[0]}%')\n",
    "print(f'Candidate Votes: {candidate_votes.index[1]} {candidate_votes[1]} {vote_percent[1]}%')\n",
    "print(f'Candidate Votes: {candidate_votes.index[2]} {candidate_votes[2]} {vote_percent[2]}%')\n",
    "print(f'Candidate Votes: {candidate_votes.index[3]} {candidate_votes[3]} {vote_percent[3]}%')\n",
    "\n",
    "print('----------------------------------')\n",
    "print(f'Winner: {winning_candidate.index[0]}')\n"
   ]
  },
  {
   "cell_type": "code",
   "execution_count": 78,
   "metadata": {},
   "outputs": [
    {
     "data": {
      "text/plain": [
       "324"
      ]
     },
     "execution_count": 78,
     "metadata": {},
     "output_type": "execute_result"
    }
   ],
   "source": [
    "file = open('election_results.txt','w')\n",
    "file.write(f'''\n",
    "'Election Results'\n",
    "'----------------------------------'\n",
    "'Total Votes: {total_votes}'\n",
    "'----------------------------------'  \n",
    "'Candidate Votes: {candidate_votes.index[0]} {candidate_votes[0]} {vote_percent[0]}%'\n",
    "'Candidate Votes: {candidate_votes.index[1]} {candidate_votes[1]} {vote_percent[1]}%'\n",
    "'Candidate Votes: {candidate_votes.index[2]} {candidate_votes[2]} {vote_percent[2]}%'\n",
    "'Candidate Votes: {candidate_votes.index[3]} {candidate_votes[3]} {vote_percent[3]}%'\n",
    "\n",
    "'----------------------------------'\n",
    "'Winner: {winning_candidate.index[0]}'\n",
    "'''\n",
    ")"
   ]
  },
  {
   "cell_type": "code",
   "execution_count": null,
   "metadata": {},
   "outputs": [],
   "source": []
  },
  {
   "cell_type": "code",
   "execution_count": null,
   "metadata": {},
   "outputs": [],
   "source": []
  }
 ],
 "metadata": {
  "kernelspec": {
   "display_name": "Python 3",
   "language": "python",
   "name": "python3"
  },
  "language_info": {
   "codemirror_mode": {
    "name": "ipython",
    "version": 3
   },
   "file_extension": ".py",
   "mimetype": "text/x-python",
   "name": "python",
   "nbconvert_exporter": "python",
   "pygments_lexer": "ipython3",
   "version": "3.7.3"
  }
 },
 "nbformat": 4,
 "nbformat_minor": 2
}
